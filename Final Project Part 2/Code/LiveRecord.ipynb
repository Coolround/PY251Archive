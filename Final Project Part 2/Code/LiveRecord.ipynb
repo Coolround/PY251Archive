{
 "cells": [
  {
   "cell_type": "code",
   "execution_count": 12,
   "metadata": {},
   "outputs": [
    {
     "name": "stdout",
     "output_type": "stream",
     "text": [
      "Requirement already satisfied: sounddevice in /home/jack/.conda/envs/myroot/lib/python3.7/site-packages (0.3.13)\n",
      "Requirement already satisfied: CFFI>=1.0 in /home/jack/.conda/envs/myroot/lib/python3.7/site-packages (from sounddevice) (1.11.5)\n",
      "Requirement already satisfied: pycparser in /home/jack/.conda/envs/myroot/lib/python3.7/site-packages (from CFFI>=1.0->sounddevice) (2.19)\n",
      "Requirement already satisfied: wavio in /home/jack/.conda/envs/myroot/lib/python3.7/site-packages (0.0.4)\n",
      "Requirement already satisfied: numpy>=1.6.0 in /home/jack/.conda/envs/myroot/lib/python3.7/site-packages (from wavio) (1.15.4)\n"
     ]
    }
   ],
   "source": [
    "!pip install sounddevice\n",
    "!pip install wavio"
   ]
  },
  {
   "cell_type": "code",
   "execution_count": 2,
   "metadata": {},
   "outputs": [],
   "source": [
    "import numpy as np\n",
    "import matplotlib.pyplot as plt\n",
    "import wavio\n",
    "import sounddevice as sd\n",
    "import sys"
   ]
  },
  {
   "cell_type": "code",
   "execution_count": null,
   "metadata": {},
   "outputs": [],
   "source": [
    "# Since the majority of this is just small tweaks until things work, I've\n",
    "# moved all of the tolerance and adjustment variables up here so they can\n",
    "# be changed easily\n",
    "\n",
    "# The window interval for our windowed fourier transform\n",
    "# (requires that anaylze method 2 is used to have effect)\n",
    "windowInterval = .02\n",
    "\n",
    "noteTolerance = .75\n",
    "noteToleranceWindowed = 1.0\n",
    "\n",
    "volumeTolerance = 2.0 # This number times the background average\n",
    "\n",
    "frequencyDeviationTolerance = 10.0 # Hz"
   ]
  },
  {
   "cell_type": "code",
   "execution_count": 48,
   "metadata": {},
   "outputs": [],
   "source": [
    "def getData(recordDuration, sampleRate):\n",
    "    recordData = sd.rec(int(recordDuration*sampleRate), samplerate=sampleRate, channels=2)\n",
    "    sd.wait()\n",
    "    \n",
    "    adjustedData = recordData.flatten()\n",
    "    \n",
    "    #print(adjustedData)\n",
    "    \n",
    "    return adjustedData"
   ]
  },
  {
   "cell_type": "code",
   "execution_count": 56,
   "metadata": {},
   "outputs": [],
   "source": [
    "# Method 1: Just use a basic fourier transform\n",
    "def analyzeData(data, sampleRate, absoluteCutoff):\n",
    "    fArr = abs(np.fft.fftfreq(len(data), 1.0 / sampleRate))\n",
    "    fftArr = abs(np.fft.fft(data))**2\n",
    "    \n",
    "    #print(max(fftArr))\n",
    "    \n",
    "    #fftArr[np.where(fftArr**2 < absoluteCutoff)] = 0\n",
    "        \n",
    "    #print(fftArr)\n",
    "    \n",
    "    #plt.plot(fArr, np.real(fftArr))\n",
    "    #plt.show()\n",
    "    \n",
    "    notes = identifyNotes(fArr, fftArr, tolerance=noteTolerance)\n",
    "    \n",
    "    # Print just a bunch of space to clear the previous typing\n",
    "    sys.stdout.write(\"\\r                                                                                \")\n",
    "    sys.stdout.write(\"\\rDetected Notes: \" + str(notes))"
   ]
  },
  {
   "cell_type": "code",
   "execution_count": 10,
   "metadata": {},
   "outputs": [],
   "source": [
    "# Method 2: Use a windowed fourier transform\n",
    "def analyzeData(data, sampleRate):\n",
    "    # And the sampling rate (aka inverse of the time interval)\n",
    "    dt = 1 / sampleRate\n",
    "\n",
    "    # Empty array that will store our notes\n",
    "    notes = []\n",
    "    \n",
    "    # We want to take data on the notes every .25 seconds\n",
    "    #windowInterval = .25 # This has been moved to an upper cell\n",
    "    soundLength = (len(data) * dt)\n",
    "    \n",
    "    # Now we iterate over every section of the data\n",
    "    for j in range(int(soundLength/windowInterval)):\n",
    "        \n",
    "        windowedData = data[int(len(data)*j/int(soundLength/windowInterval)):int(len(data)*(j+1)/int(soundLength/windowInterval))]\n",
    "        \n",
    "        #print(windowedData)\n",
    "        \n",
    "        # Now do the actual fourier transform and get the power spectrum\n",
    "        fArr = abs(np.fft.fftfreq(len(windowedData), dt))\n",
    "        fftArr = abs(np.fft.fft(windowedData))**3\n",
    "        \n",
    "        # We use the method identifyNotes to look at the maximums on the power spectrum\n",
    "        notes = notes + identifyNotes(fArr, fftArr, tolerance=noteToleranceWindowed)\n",
    "        \n",
    "    #plt.plot(fArr, np.real(fftArr))\n",
    "    #plt.show()\n",
    "    \n",
    "    # Print just a bunch of space to clear the previous typing\n",
    "    sys.stdout.write(\"\\r                                                                                \")\n",
    "    sys.stdout.write(\"\\rDetected Notes: \" + str(notes))"
   ]
  },
  {
   "cell_type": "code",
   "execution_count": null,
   "metadata": {},
   "outputs": [],
   "source": [
    "# This gives an estimate of the dominant frequencies in the sound\n",
    "# file given the fourier transform\n",
    "def identifyNotes(freq, data, tolerance = 1.0):\n",
    "    \n",
    "    # Open the file\n",
    "    # Instead of manually typing each frequency note pair, I took the source code\n",
    "    # for the following website and parse it below\n",
    "    # https://www.seventhstring.com/resources/notefrequencies.html\n",
    "    file = open(\"frequencies.txt\")\n",
    "\n",
    "    lines = file.read()\n",
    "    #print(lines)\n",
    "\n",
    "    # Here we are removing the html table formatting to just leave the data\n",
    "    lines = lines.replace(\"tr\", \"\")\n",
    "    lines = lines.replace(\"td\", \"\")\n",
    "    lines = lines.replace(\"th\", \"\")\n",
    "    lines = lines.replace(\"<\", \"\")\n",
    "    lines = lines.replace(\">\", \"\")\n",
    "    lines = lines.replace(\"\\t\", \"\")\n",
    "    lines = lines.replace(\" \", \"\")\n",
    "\n",
    "    # Now split it into lines\n",
    "    arr = lines.split(\"\\n\")  \n",
    "\n",
    "    # And remove some blank lines\n",
    "    while \"\" in arr:\n",
    "        arr.remove(\"\")\n",
    "\n",
    "    # And remove all of the / lines too\n",
    "    while \"/\" in arr:\n",
    "        arr.remove(\"/\")\n",
    "\n",
    "    # Split the first line, since it contains the note headers\n",
    "    notes = arr[0].split(\"/\")    \n",
    "\n",
    "    keys = []\n",
    "    freqs = []\n",
    "    for i in range(len(arr)-1):\n",
    "        for j in range(1, len(notes)-1):\n",
    "            keys.append(notes[j] + str(i))\n",
    "            freqs.append(float(arr[i+1].split(\"/\")[j]))\n",
    "\n",
    "    # Create a dictionary with our frequencies and keys\n",
    "    frequencies = dict(zip(freqs, keys))\n",
    "\n",
    "    # Now search for frequencies who have a maximum that is comparable to the absolute maximum\n",
    "    # Having a lower tolerance with mean more notes will be detected as being played\n",
    "    fArr = freq[np.where(data > tolerance * max(data))]\n",
    "    \n",
    "    \n",
    "    notes = []\n",
    "    \n",
    "    # Now look for notes by comparing the detected frequencies to the dictionary we created above\n",
    "    # We say that if the frequency is within 10 Hz of the frequency for that note, it is being played\n",
    "    # frequencyDeviationTolerance = 5.0 # Hz (This has been moved to an upper cell)\n",
    "    for i in range(len(fArr)):\n",
    "        for j in frequencies:\n",
    "            if abs(fArr[i] - j) < frequencyDeviationTolerance:\n",
    "                notes.append(frequencies[j])\n",
    "                \n",
    "    return np.unique(notes).tolist()"
   ]
  },
  {
   "cell_type": "code",
   "execution_count": 58,
   "metadata": {},
   "outputs": [
    {
     "name": "stdout",
     "output_type": "stream",
     "text": [
      "Taking background sample, please wait 5 seconds...\n"
     ]
    },
    {
     "data": {
      "image/png": "[encoded data removed]",
      "text/plain": [
       "<Figure size 432x288 with 1 Axes>"
      ]
     },
     "metadata": {
      "needs_background": "light"
     },
     "output_type": "display_data"
    },
    {
     "name": "stdout",
     "output_type": "stream",
     "text": [
      "Background analysis complete!\n",
      "Beginning sample acquisition...\n",
      "Detected Notes: ['G#3']"
     ]
    },
    {
     "ename": "KeyboardInterrupt",
     "evalue": "",
     "output_type": "error",
     "traceback": [
      "\u001b[0;31m---------------------------------------------------------------------------\u001b[0m",
      "\u001b[0;31mKeyboardInterrupt\u001b[0m                         Traceback (most recent call last)",
      "\u001b[0;32m<ipython-input-58-6be36213341c>\u001b[0m in \u001b[0;36m<module>\u001b[0;34m\u001b[0m\n\u001b[1;32m     24\u001b[0m \u001b[0;34m\u001b[0m\u001b[0m\n\u001b[1;32m     25\u001b[0m \u001b[0;32mwhile\u001b[0m \u001b[0;32mTrue\u001b[0m\u001b[0;34m:\u001b[0m\u001b[0;34m\u001b[0m\u001b[0;34m\u001b[0m\u001b[0m\n\u001b[0;32m---> 26\u001b[0;31m     \u001b[0madjustedData\u001b[0m \u001b[0;34m=\u001b[0m \u001b[0mgetData\u001b[0m\u001b[0;34m(\u001b[0m\u001b[0mrecordDuration\u001b[0m\u001b[0;34m,\u001b[0m \u001b[0msampleRate\u001b[0m\u001b[0;34m)\u001b[0m\u001b[0;34m\u001b[0m\u001b[0;34m\u001b[0m\u001b[0m\n\u001b[0m\u001b[1;32m     27\u001b[0m \u001b[0;34m\u001b[0m\u001b[0m\n\u001b[1;32m     28\u001b[0m     \u001b[0;31m# Since we want to filter based on volume, we can set a tolerance\u001b[0m\u001b[0;34m\u001b[0m\u001b[0;34m\u001b[0m\u001b[0;34m\u001b[0m\u001b[0m\n",
      "\u001b[0;32m<ipython-input-48-0f9003077dcf>\u001b[0m in \u001b[0;36mgetData\u001b[0;34m(recordDuration, sampleRate)\u001b[0m\n\u001b[1;32m      1\u001b[0m \u001b[0;32mdef\u001b[0m \u001b[0mgetData\u001b[0m\u001b[0;34m(\u001b[0m\u001b[0mrecordDuration\u001b[0m\u001b[0;34m,\u001b[0m \u001b[0msampleRate\u001b[0m\u001b[0;34m)\u001b[0m\u001b[0;34m:\u001b[0m\u001b[0;34m\u001b[0m\u001b[0;34m\u001b[0m\u001b[0m\n\u001b[1;32m      2\u001b[0m     \u001b[0mrecordData\u001b[0m \u001b[0;34m=\u001b[0m \u001b[0msd\u001b[0m\u001b[0;34m.\u001b[0m\u001b[0mrec\u001b[0m\u001b[0;34m(\u001b[0m\u001b[0mint\u001b[0m\u001b[0;34m(\u001b[0m\u001b[0mrecordDuration\u001b[0m\u001b[0;34m*\u001b[0m\u001b[0msampleRate\u001b[0m\u001b[0;34m)\u001b[0m\u001b[0;34m,\u001b[0m \u001b[0msamplerate\u001b[0m\u001b[0;34m=\u001b[0m\u001b[0msampleRate\u001b[0m\u001b[0;34m,\u001b[0m \u001b[0mchannels\u001b[0m\u001b[0;34m=\u001b[0m\u001b[0;36m2\u001b[0m\u001b[0;34m)\u001b[0m\u001b[0;34m\u001b[0m\u001b[0;34m\u001b[0m\u001b[0m\n\u001b[0;32m----> 3\u001b[0;31m     \u001b[0msd\u001b[0m\u001b[0;34m.\u001b[0m\u001b[0mwait\u001b[0m\u001b[0;34m(\u001b[0m\u001b[0;34m)\u001b[0m\u001b[0;34m\u001b[0m\u001b[0;34m\u001b[0m\u001b[0m\n\u001b[0m\u001b[1;32m      4\u001b[0m \u001b[0;34m\u001b[0m\u001b[0m\n\u001b[1;32m      5\u001b[0m     \u001b[0madjustedData\u001b[0m \u001b[0;34m=\u001b[0m \u001b[0mrecordData\u001b[0m\u001b[0;34m.\u001b[0m\u001b[0mflatten\u001b[0m\u001b[0;34m(\u001b[0m\u001b[0;34m)\u001b[0m\u001b[0;34m\u001b[0m\u001b[0;34m\u001b[0m\u001b[0m\n",
      "\u001b[0;32m~/.conda/envs/myroot/lib/python3.7/site-packages/sounddevice.py\u001b[0m in \u001b[0;36mwait\u001b[0;34m(ignore_errors)\u001b[0m\n\u001b[1;32m    314\u001b[0m     \"\"\"\n\u001b[1;32m    315\u001b[0m     \u001b[0;32mif\u001b[0m \u001b[0m_last_callback\u001b[0m\u001b[0;34m:\u001b[0m\u001b[0;34m\u001b[0m\u001b[0;34m\u001b[0m\u001b[0m\n\u001b[0;32m--> 316\u001b[0;31m         \u001b[0;32mreturn\u001b[0m \u001b[0m_last_callback\u001b[0m\u001b[0;34m.\u001b[0m\u001b[0mwait\u001b[0m\u001b[0;34m(\u001b[0m\u001b[0mignore_errors\u001b[0m\u001b[0;34m)\u001b[0m\u001b[0;34m\u001b[0m\u001b[0;34m\u001b[0m\u001b[0m\n\u001b[0m\u001b[1;32m    317\u001b[0m \u001b[0;34m\u001b[0m\u001b[0m\n\u001b[1;32m    318\u001b[0m \u001b[0;34m\u001b[0m\u001b[0m\n",
      "\u001b[0;32m~/.conda/envs/myroot/lib/python3.7/site-packages/sounddevice.py\u001b[0m in \u001b[0;36mwait\u001b[0;34m(self, ignore_errors)\u001b[0m\n\u001b[1;32m   2429\u001b[0m         \"\"\"\n\u001b[1;32m   2430\u001b[0m         \u001b[0;32mtry\u001b[0m\u001b[0;34m:\u001b[0m\u001b[0;34m\u001b[0m\u001b[0;34m\u001b[0m\u001b[0m\n\u001b[0;32m-> 2431\u001b[0;31m             \u001b[0mself\u001b[0m\u001b[0;34m.\u001b[0m\u001b[0mevent\u001b[0m\u001b[0;34m.\u001b[0m\u001b[0mwait\u001b[0m\u001b[0;34m(\u001b[0m\u001b[0;34m)\u001b[0m\u001b[0;34m\u001b[0m\u001b[0;34m\u001b[0m\u001b[0m\n\u001b[0m\u001b[1;32m   2432\u001b[0m         \u001b[0;32mfinally\u001b[0m\u001b[0;34m:\u001b[0m\u001b[0;34m\u001b[0m\u001b[0;34m\u001b[0m\u001b[0m\n\u001b[1;32m   2433\u001b[0m             \u001b[0mself\u001b[0m\u001b[0;34m.\u001b[0m\u001b[0mstream\u001b[0m\u001b[0;34m.\u001b[0m\u001b[0mclose\u001b[0m\u001b[0;34m(\u001b[0m\u001b[0mignore_errors\u001b[0m\u001b[0;34m)\u001b[0m\u001b[0;34m\u001b[0m\u001b[0;34m\u001b[0m\u001b[0m\n",
      "\u001b[0;32m~/.conda/envs/myroot/lib/python3.7/threading.py\u001b[0m in \u001b[0;36mwait\u001b[0;34m(self, timeout)\u001b[0m\n\u001b[1;32m    550\u001b[0m             \u001b[0msignaled\u001b[0m \u001b[0;34m=\u001b[0m \u001b[0mself\u001b[0m\u001b[0;34m.\u001b[0m\u001b[0m_flag\u001b[0m\u001b[0;34m\u001b[0m\u001b[0;34m\u001b[0m\u001b[0m\n\u001b[1;32m    551\u001b[0m             \u001b[0;32mif\u001b[0m \u001b[0;32mnot\u001b[0m \u001b[0msignaled\u001b[0m\u001b[0;34m:\u001b[0m\u001b[0;34m\u001b[0m\u001b[0;34m\u001b[0m\u001b[0m\n\u001b[0;32m--> 552\u001b[0;31m                 \u001b[0msignaled\u001b[0m \u001b[0;34m=\u001b[0m \u001b[0mself\u001b[0m\u001b[0;34m.\u001b[0m\u001b[0m_cond\u001b[0m\u001b[0;34m.\u001b[0m\u001b[0mwait\u001b[0m\u001b[0;34m(\u001b[0m\u001b[0mtimeout\u001b[0m\u001b[0;34m)\u001b[0m\u001b[0;34m\u001b[0m\u001b[0;34m\u001b[0m\u001b[0m\n\u001b[0m\u001b[1;32m    553\u001b[0m             \u001b[0;32mreturn\u001b[0m \u001b[0msignaled\u001b[0m\u001b[0;34m\u001b[0m\u001b[0;34m\u001b[0m\u001b[0m\n\u001b[1;32m    554\u001b[0m \u001b[0;34m\u001b[0m\u001b[0m\n",
      "\u001b[0;32m~/.conda/envs/myroot/lib/python3.7/threading.py\u001b[0m in \u001b[0;36mwait\u001b[0;34m(self, timeout)\u001b[0m\n\u001b[1;32m    294\u001b[0m         \u001b[0;32mtry\u001b[0m\u001b[0;34m:\u001b[0m    \u001b[0;31m# restore state no matter what (e.g., KeyboardInterrupt)\u001b[0m\u001b[0;34m\u001b[0m\u001b[0;34m\u001b[0m\u001b[0m\n\u001b[1;32m    295\u001b[0m             \u001b[0;32mif\u001b[0m \u001b[0mtimeout\u001b[0m \u001b[0;32mis\u001b[0m \u001b[0;32mNone\u001b[0m\u001b[0;34m:\u001b[0m\u001b[0;34m\u001b[0m\u001b[0;34m\u001b[0m\u001b[0m\n\u001b[0;32m--> 296\u001b[0;31m                 \u001b[0mwaiter\u001b[0m\u001b[0;34m.\u001b[0m\u001b[0macquire\u001b[0m\u001b[0;34m(\u001b[0m\u001b[0;34m)\u001b[0m\u001b[0;34m\u001b[0m\u001b[0;34m\u001b[0m\u001b[0m\n\u001b[0m\u001b[1;32m    297\u001b[0m                 \u001b[0mgotit\u001b[0m \u001b[0;34m=\u001b[0m \u001b[0;32mTrue\u001b[0m\u001b[0;34m\u001b[0m\u001b[0;34m\u001b[0m\u001b[0m\n\u001b[1;32m    298\u001b[0m             \u001b[0;32melse\u001b[0m\u001b[0;34m:\u001b[0m\u001b[0;34m\u001b[0m\u001b[0;34m\u001b[0m\u001b[0m\n",
      "\u001b[0;31mKeyboardInterrupt\u001b[0m: "
     ]
    }
   ],
   "source": [
    "recordDuration = .5 # seconds\n",
    "sampleRate = 44000 # samples/sec\n",
    "\n",
    "# We want to take a background sample to remove any extra noise\n",
    "backgroundDuration = 5\n",
    "\n",
    "print(\"Taking background sample, please wait {} seconds...\".format(backgroundDuration))\n",
    "backgroundData = sd.rec(int(backgroundDuration*sampleRate), samplerate=sampleRate, channels=2)\n",
    "sd.wait()\n",
    "\n",
    "backgroundfftMax = np.real(max(abs(np.fft.fft(backgroundData.flatten()))))**2\n",
    "\n",
    "#print(backgroundfftMax)\n",
    "\n",
    "#backgroundAverage = np.mean(backgroundData.flatten())\n",
    "\n",
    "plt.plot(backgroundData)\n",
    "plt.show()\n",
    "\n",
    "#print(backgroundAverage)\n",
    "\n",
    "print(\"Background analysis complete!\")\n",
    "print(\"Beginning sample acquisition...\")\n",
    "\n",
    "while True:\n",
    "    adjustedData = getData(recordDuration, sampleRate)\n",
    "    \n",
    "    # Since we want to filter based on volume, we can set a tolerance\n",
    "    # I don't know what units this is in, I just messed around with it\n",
    "    # until things looked good\n",
    "    #volumeTolerance = .05 # This has been moved to an upper cell\n",
    "    #if max(adjustedData) < backgroundAverage*volumeTolerance:\n",
    "        #continue\n",
    "    \n",
    "    analyzeData(adjustedData, sampleRate, backgroundfftMax)"
   ]
  },
  {
   "cell_type": "code",
   "execution_count": 20,
   "metadata": {},
   "outputs": [
    {
     "name": "stdout",
     "output_type": "stream",
     "text": [
      "[-9.6486445e-05 -9.5102565e-05 -8.2250655e-05 ... -1.1216191e-02\n",
      " -9.0169776e-03 -1.1364145e-02]\n"
     ]
    }
   ],
   "source": [
    "print(adjustedData)"
   ]
  },
  {
   "cell_type": "code",
   "execution_count": 37,
   "metadata": {},
   "outputs": [
    {
     "data": {
      "text/plain": [
       "(0, 500)"
      ]
     },
     "execution_count": 37,
     "metadata": {},
     "output_type": "execute_result"
    },
    {
     "data": {
      "image/png": "[encoded data removed]",
      "text/plain": [
       "<Figure size 432x288 with 1 Axes>"
      ]
     },
     "metadata": {
      "needs_background": "light"
     },
     "output_type": "display_data"
    },
    {
     "data": {
      "image/png": "[encoded data removed]",
      "text/plain": [
       "<Figure size 432x288 with 1 Axes>"
      ]
     },
     "metadata": {
      "needs_background": "light"
     },
     "output_type": "display_data"
    }
   ],
   "source": [
    "fig, ax = plt.subplots()\n",
    "ax.plot(adjustedData)\n",
    "\n",
    "FT = np.fft.fft(adjustedData[0:5000])\n",
    "fig, ax =plt.subplots()\n",
    "ax.plot(abs(FT)**2)\n",
    "ax.set_xlim(0,500)"
   ]
  }
 ],
 "metadata": {
  "kernelspec": {
   "display_name": "Python 3",
   "language": "python",
   "name": "python3"
  },
  "language_info": {
   "codemirror_mode": {
    "name": "ipython",
    "version": 3
   },
   "file_extension": ".py",
   "mimetype": "text/x-python",
   "name": "python",
   "nbconvert_exporter": "python",
   "pygments_lexer": "ipython3",
   "version": "3.7.1"
  }
 },
 "nbformat": 4,
 "nbformat_minor": 2
}
